{
 "cells": [
  {
   "cell_type": "code",
   "execution_count": 0,
   "metadata": {
    "application/vnd.databricks.v1+cell": {
     "cellMetadata": {
      "byteLimit": 2048000,
      "rowLimit": 10000
     },
     "inputWidgets": {},
     "nuid": "2c7ff8f3-e7ca-49bb-b042-9b504977426e",
     "showTitle": false,
     "title": ""
    }
   },
   "outputs": [
    {
     "output_type": "stream",
     "name": "stdout",
     "output_type": "stream",
     "text": [
      "+----+---+-----------+-------+---------+---+----+---+---+--------+---+---+---+---+---+---+-------+----+\n|1001| 30| unemployed|married|  primary|no5|1787|no7|no8|cellular| 19|oct| 79|  1| -1|  0|unknown|no17|\n+----+---+-----------+-------+---------+---+----+---+---+--------+---+---+---+---+---+---+-------+----+\n|1002| 33|   services|married|secondary| no|4789|yes|yes|cellular| 11|may|220|  1|339|  4|failure|  no|\n|1003| 35| management| single| tertiary| no|1350|yes| no|cellular| 16|apr|185|  1|330|  1|failure|  no|\n|1004| 30| management|married| tertiary| no|1476|yes|yes| unknown|  3|jun|199|  4| -1|  0|unknown|  no|\n|1005| 59|blue-collar|married|secondary| no|   0|yes| no| unknown|  5|may|226|  1| -1|  0|unknown|  no|\n+----+---+-----------+-------+---------+---+----+---+---+--------+---+---+---+---+---+---+-------+----+\nonly showing top 4 rows\n\n"
     ]
    }
   ],
   "source": [
    "#mounting adls \n",
    "spark.conf.set(\"fs.azure.account.key.capadls.dfs.core.windows.net\",\"NUddFRAEp9O9xvfVdKwdw8u8To52mYqwCzWtLs42FG4IOFG09W670Hbmm4keZAyThQuYUMOD66s4+AStkSkHDw==\")\n",
    "\n",
    "adlocation=\"abfss://bankdata@capadls.dfs.core.windows.net/bank_data.csv\"\n"
   ]
  },
  {
   "cell_type": "code",
   "execution_count": 0,
   "metadata": {
    "application/vnd.databricks.v1+cell": {
     "cellMetadata": {
      "byteLimit": 2048000,
      "rowLimit": 10000
     },
     "inputWidgets": {},
     "nuid": "340dd871-e7ba-4309-adbe-7e7d349da57b",
     "showTitle": false,
     "title": ""
    }
   },
   "outputs": [],
   "source": [
    "# defining schema \n",
    "\n",
    "from pyspark.sql.types import *\n",
    "\n",
    "testSchema = StructType([\n",
    "    StructField(\"id\",StringType(),False),\n",
    "    StructField(\"age\",IntegerType(),False),\n",
    "    StructField(\"job\",StringType(),True),\n",
    "    StructField(\"marital_status\",StringType(),True),\n",
    "    StructField(\"education\",StringType(),True),\n",
    "    StructField(\"default\",StringType(),True),\n",
    "    StructField(\"balance\",IntegerType(),True),\n",
    "    StructField(\"housing\",StringType(),True),\n",
    "    StructField(\"loan\",StringType(),True),\n",
    "    StructField(\"contact\",StringType(),True),\n",
    "    StructField(\"day\",IntegerType(),True),\n",
    "    StructField(\"month\",StringType(),True),\n",
    "    StructField(\"duration\",IntegerType(),True),\n",
    "    StructField(\"campaign\",IntegerType(),True),\n",
    "    StructField(\"pdays\",IntegerType(),True),\n",
    "    StructField(\"previous\",IntegerType(),True),\n",
    "    StructField(\"poutcome\",StringType(),True),\n",
    "    StructField(\"opened_new_td_act_no_yes\",StringType(),True),\n",
    "\n",
    "])\n",
    "\n",
    "num_columns = [\"Age\",\"balance\",\"day\",\"duration\",\"campaign\",\"pdays\"]"
   ]
  },
  {
   "cell_type": "code",
   "execution_count": 0,
   "metadata": {
    "application/vnd.databricks.v1+cell": {
     "cellMetadata": {
      "byteLimit": 2048000,
      "rowLimit": 10000
     },
     "inputWidgets": {},
     "nuid": "bf73bef4-16c0-489f-b5d1-445ffc09fb9c",
     "showTitle": false,
     "title": ""
    }
   },
   "outputs": [
    {
     "output_type": "stream",
     "name": "stdout",
     "output_type": "stream",
     "text": [
      "+----+---+-----------+--------------+---------+-------+-------+-------+----+--------+---+-----+--------+--------+-----+--------+--------+------------------------+\n|  id|age|        job|marital_status|education|default|balance|housing|loan| contact|day|month|duration|campaign|pdays|previous|poutcome|opened_new_td_act_no_yes|\n+----+---+-----------+--------------+---------+-------+-------+-------+----+--------+---+-----+--------+--------+-----+--------+--------+------------------------+\n|1002| 33|   services|       married|secondary|     no|   4789|    yes| yes|cellular| 11|  may|     220|       1|  339|       4| failure|                      no|\n|1003| 35| management|        single| tertiary|     no|   1350|    yes|  no|cellular| 16|  apr|     185|       1|  330|       1| failure|                      no|\n|1004| 30| management|       married| tertiary|     no|   1476|    yes| yes| unknown|  3|  jun|     199|       4|   -1|       0| unknown|                      no|\n|1005| 59|blue-collar|       married|secondary|     no|      0|    yes|  no| unknown|  5|  may|     226|       1|   -1|       0| unknown|                      no|\n|1006| 35| management|        single| tertiary|     no|    747|     no|  no|cellular| 23|  feb|     141|       2|  176|       3| failure|                      no|\n+----+---+-----------+--------------+---------+-------+-------+-------+----+--------+---+-----+--------+--------+-----+--------+--------+------------------------+\nonly showing top 5 rows\n\n"
     ]
    }
   ],
   "source": [
    "# reading file and creating dataframe \n",
    "location =\"/FileStore/tables/bank_data.csv\"\n",
    "df = spark.read.format(\"csv\").schema(testSchema).option(\"header\", \"true\").option(\"delimiter\",\",\").load(adlocation)\n",
    "df.show(5)\n"
   ]
  },
  {
   "cell_type": "code",
   "execution_count": 0,
   "metadata": {
    "application/vnd.databricks.v1+cell": {
     "cellMetadata": {
      "byteLimit": 2048000,
      "rowLimit": 10000
     },
     "inputWidgets": {},
     "nuid": "d08699c4-118d-4531-9a31-cc138de76f8f",
     "showTitle": false,
     "title": ""
    }
   },
   "outputs": [
    {
     "output_type": "stream",
     "name": "stdout",
     "output_type": "stream",
     "text": [
      "Out[96]: StructType([StructField('id', StringType(), True), StructField('age', IntegerType(), True), StructField('job', StringType(), True), StructField('marital_status', StringType(), True), StructField('education', StringType(), True), StructField('default', StringType(), True), StructField('balance', IntegerType(), True), StructField('housing', StringType(), True), StructField('loan', StringType(), True), StructField('contact', StringType(), True), StructField('day', IntegerType(), True), StructField('month', StringType(), True), StructField('duration', IntegerType(), True), StructField('campaign', IntegerType(), True), StructField('pdays', IntegerType(), True), StructField('previous', IntegerType(), True), StructField('poutcome', StringType(), True), StructField('opened_new_td_act_no_yes', StringType(), True)])"
     ]
    }
   ],
   "source": [
    "#verifying Schema \n",
    "df.schema"
   ]
  },
  {
   "cell_type": "code",
   "execution_count": 0,
   "metadata": {
    "application/vnd.databricks.v1+cell": {
     "cellMetadata": {
      "byteLimit": 2048000,
      "rowLimit": 10000
     },
     "inputWidgets": {},
     "nuid": "9a018822-13e1-4604-9065-cf40dd346326",
     "showTitle": false,
     "title": ""
    }
   },
   "outputs": [
    {
     "output_type": "stream",
     "name": "stdout",
     "output_type": "stream",
     "text": [
      "Out[97]: DataFrame[id: string, age: int, job: string, marital_status: string, education: string, default: string, balance: int, housing: string, loan: string, contact: string, day: int, month: string, duration: int, campaign: int, pdays: int, previous: int, poutcome: string, opened_new_td_act_no_yes: string]"
     ]
    }
   ],
   "source": [
    "#cache the dataframe \n",
    "\n",
    "df.cache()"
   ]
  },
  {
   "cell_type": "code",
   "execution_count": 0,
   "metadata": {
    "application/vnd.databricks.v1+cell": {
     "cellMetadata": {
      "byteLimit": 2048000,
      "rowLimit": 10000
     },
     "inputWidgets": {},
     "nuid": "92f53f52-aea4-4224-ab9f-b890ede00a8d",
     "showTitle": false,
     "title": ""
    }
   },
   "outputs": [
    {
     "output_type": "stream",
     "name": "stdout",
     "output_type": "stream",
     "text": [
      "+----+---+-----------+--------------+---------+-------+-------+-------+----+--------+---+-----+--------+--------+-----+--------+--------+------------------------+\n|  id|age|        job|marital_status|education|default|balance|housing|loan| contact|day|month|duration|campaign|pdays|previous|poutcome|opened_new_td_act_no_yes|\n+----+---+-----------+--------------+---------+-------+-------+-------+----+--------+---+-----+--------+--------+-----+--------+--------+------------------------+\n|1002| 33|   services|       married|secondary|     no|   4789|    yes| yes|cellular| 11|  may|     220|       1|  339|       4| failure|                      no|\n|1003| 35| management|        single| tertiary|     no|   1350|    yes|  no|cellular| 16|  apr|     185|       1|  330|       1| failure|                      no|\n|1004| 30| management|       married| tertiary|     no|   1476|    yes| yes| unknown|  3|  jun|     199|       4|   -1|       0| unknown|                      no|\n|1005| 59|blue-collar|       married|secondary|     no|      0|    yes|  no| unknown|  5|  may|     226|       1|   -1|       0| unknown|                      no|\n|1006| 35| management|        single| tertiary|     no|    747|     no|  no|cellular| 23|  feb|     141|       2|  176|       3| failure|                      no|\n+----+---+-----------+--------------+---------+-------+-------+-------+----+--------+---+-----+--------+--------+-----+--------+--------+------------------------+\nonly showing top 5 rows\n\n"
     ]
    }
   ],
   "source": [
    "df.show(5)"
   ]
  },
  {
   "cell_type": "code",
   "execution_count": 0,
   "metadata": {
    "application/vnd.databricks.v1+cell": {
     "cellMetadata": {
      "byteLimit": 2048000,
      "rowLimit": 10000
     },
     "inputWidgets": {},
     "nuid": "2cf54a5b-ced5-42ad-a699-2ef98fdde595",
     "showTitle": false,
     "title": ""
    }
   },
   "outputs": [
    {
     "output_type": "stream",
     "name": "stdout",
     "output_type": "stream",
     "text": [
      "Out[99]: ['id',\n 'age',\n 'job',\n 'marital_status',\n 'education',\n 'default',\n 'balance',\n 'housing',\n 'loan',\n 'contact',\n 'day',\n 'month',\n 'duration',\n 'campaign',\n 'pdays',\n 'previous',\n 'poutcome',\n 'opened_new_td_act_no_yes']"
     ]
    }
   ],
   "source": [
    "df.columns"
   ]
  },
  {
   "cell_type": "code",
   "execution_count": 0,
   "metadata": {
    "application/vnd.databricks.v1+cell": {
     "cellMetadata": {
      "byteLimit": 2048000,
      "rowLimit": 10000
     },
     "inputWidgets": {},
     "nuid": "af72549a-725d-4d24-83c2-01449a0a0078",
     "showTitle": false,
     "title": ""
    }
   },
   "outputs": [
    {
     "output_type": "stream",
     "name": "stdout",
     "output_type": "stream",
     "text": [
      "Out[100]: 4520"
     ]
    }
   ],
   "source": [
    "df.count()"
   ]
  },
  {
   "cell_type": "code",
   "execution_count": 0,
   "metadata": {
    "application/vnd.databricks.v1+cell": {
     "cellMetadata": {
      "byteLimit": 2048000,
      "rowLimit": 10000
     },
     "inputWidgets": {},
     "nuid": "c59cc968-a835-4a2d-950a-b71a2ba847ac",
     "showTitle": false,
     "title": ""
    }
   },
   "outputs": [
    {
     "output_type": "stream",
     "name": "stdout",
     "output_type": "stream",
     "text": [
      "+-------+------------------+------------------+-------+--------------+---------+-------+------------------+-------+----+--------+------------------+-----+------------------+-----------------+------------------+------------------+--------+------------------------+\n|summary|                id|               age|    job|marital_status|education|default|           balance|housing|loan| contact|               day|month|          duration|         campaign|             pdays|          previous|poutcome|opened_new_td_act_no_yes|\n+-------+------------------+------------------+-------+--------------+---------+-------+------------------+-------+----+--------+------------------+-----+------------------+-----------------+------------------+------------------+--------+------------------------+\n|  count|              4520|              4520|   4520|          4520|     4520|   4520|              4520|   4520|4520|    4520|              4520| 4520|              4520|             4520|              4520|              4520|    4520|                    4520|\n|   mean|            3261.5| 41.17256637168141|   null|          null|     null|   null|1422.5772123893805|   null|null|    null|15.914601769911505| null|264.00221238938053|2.794026548672566| 39.77566371681416|0.5426991150442478|    null|                    null|\n| stddev|1304.9559379534621|10.576075559901557|   null|          null|     null|   null| 3009.966241608989|   null|null|    null| 8.248452164351006| null|259.87081406721217|3.110036246063498|100.13036481817643| 1.693730487185361|    null|                    null|\n|    min|              1002|                19| admin.|      divorced|  primary|     no|             -3313|     no|  no|cellular|                 1|  apr|                 4|                1|                -1|                 0| failure|                      no|\n|    max|              5521|                87|unknown|        single|  unknown|    yes|             71188|    yes| yes| unknown|                31|  sep|              3025|               50|               871|                25| unknown|                     yes|\n+-------+------------------+------------------+-------+--------------+---------+-------+------------------+-------+----+--------+------------------+-----+------------------+-----------------+------------------+------------------+--------+------------------------+\n\n"
     ]
    }
   ],
   "source": [
    "# describe all the columns \n",
    "df.describe().show()"
   ]
  },
  {
   "cell_type": "code",
   "execution_count": 0,
   "metadata": {
    "application/vnd.databricks.v1+cell": {
     "cellMetadata": {
      "byteLimit": 2048000,
      "rowLimit": 10000
     },
     "inputWidgets": {},
     "nuid": "79fe8115-f1b8-4139-adb1-dafb6d3f0517",
     "showTitle": false,
     "title": ""
    }
   },
   "outputs": [
    {
     "output_type": "stream",
     "name": "stdout",
     "output_type": "stream",
     "text": [
      "+-------+------------------+\n|summary|           balance|\n+-------+------------------+\n|  count|              4520|\n|   mean|1422.5772123893805|\n| stddev| 3009.966241608989|\n|    min|             -3313|\n|    max|             71188|\n+-------+------------------+\n\n"
     ]
    }
   ],
   "source": [
    "# describe one of the column \n",
    "df.describe(\"balance\").show()"
   ]
  },
  {
   "cell_type": "code",
   "execution_count": 0,
   "metadata": {
    "application/vnd.databricks.v1+cell": {
     "cellMetadata": {
      "byteLimit": 2048000,
      "rowLimit": 10000
     },
     "inputWidgets": {},
     "nuid": "1946882d-4207-49da-9eef-179cdcd65681",
     "showTitle": false,
     "title": ""
    }
   },
   "outputs": [
    {
     "output_type": "stream",
     "name": "stdout",
     "output_type": "stream",
     "text": [
      "number of negative values:\nage 0\nbalance 723\nday 0\nduration 0\ncampaign 0\npdays 3704\nprevious 3704\n+----+---+-----------+--------------+---------+-------+-------+-------+----+--------+---+-----+--------+--------+-----+--------+--------+------------------------+\n|  id|age|        job|marital_status|education|default|balance|housing|loan| contact|day|month|duration|campaign|pdays|previous|poutcome|opened_new_td_act_no_yes|\n+----+---+-----------+--------------+---------+-------+-------+-------+----+--------+---+-----+--------+--------+-----+--------+--------+------------------------+\n|1002| 33|   services|       married|secondary|     no|   4789|    yes| yes|cellular| 11|  may|     220|       1|  339|       4| failure|                      no|\n|1003| 35| management|        single| tertiary|     no|   1350|    yes|  no|cellular| 16|  apr|     185|       1|  330|       1| failure|                      no|\n|1004| 30| management|       married| tertiary|     no|   1476|    yes| yes| unknown|  3|  jun|     199|       4|   -1|       0| unknown|                      no|\n|1005| 59|blue-collar|       married|secondary|     no|      0|    yes|  no| unknown|  5|  may|     226|       1|   -1|       0| unknown|                      no|\n|1006| 35| management|        single| tertiary|     no|    747|     no|  no|cellular| 23|  feb|     141|       2|  176|       3| failure|                      no|\n+----+---+-----------+--------------+---------+-------+-------+-------+----+--------+---+-----+--------+--------+-----+--------+--------+------------------------+\nonly showing top 5 rows\n\n"
     ]
    }
   ],
   "source": [
    "#find negative in and replace them with zeros\n",
    "num_columns = [f.name for f in df.schema.fields if isinstance(f.dataType, IntegerType)]\n",
    "num_columns\n",
    "\n",
    "import pyspark.sql.functions as func\n",
    "print(\"number of negative values:\")\n",
    "for column in num_columns  :\n",
    "    print(column,df.filter(func.col(column) <= 0).count())\n",
    "df.show(5)"
   ]
  },
  {
   "cell_type": "code",
   "execution_count": 0,
   "metadata": {
    "application/vnd.databricks.v1+cell": {
     "cellMetadata": {
      "byteLimit": 2048000,
      "rowLimit": 10000
     },
     "inputWidgets": {},
     "nuid": "3ccfc4b7-762d-4739-89ea-40d0ba21da35",
     "showTitle": false,
     "title": ""
    }
   },
   "outputs": [
    {
     "output_type": "stream",
     "name": "stdout",
     "output_type": "stream",
     "text": [
      "age\nbalance\nday\nduration\ncampaign\npdays\nprevious\n"
     ]
    },
    {
     "output_type": "display_data",
     "data": {
      "text/html": [
       "<div>\n",
       "<style scoped>\n",
       "    .dataframe tbody tr th:only-of-type {\n",
       "        vertical-align: middle;\n",
       "    }\n",
       "\n",
       "    .dataframe tbody tr th {\n",
       "        vertical-align: top;\n",
       "    }\n",
       "\n",
       "    .dataframe thead th {\n",
       "        text-align: right;\n",
       "    }\n",
       "</style>\n",
       "<table border=\"1\" class=\"dataframe\">\n",
       "  <thead>\n",
       "    <tr style=\"text-align: right;\">\n",
       "      <th></th>\n",
       "      <th>id</th>\n",
       "      <th>age</th>\n",
       "      <th>job</th>\n",
       "      <th>marital_status</th>\n",
       "      <th>education</th>\n",
       "      <th>default</th>\n",
       "      <th>balance</th>\n",
       "      <th>housing</th>\n",
       "      <th>loan</th>\n",
       "      <th>contact</th>\n",
       "      <th>day</th>\n",
       "      <th>month</th>\n",
       "      <th>duration</th>\n",
       "      <th>campaign</th>\n",
       "      <th>pdays</th>\n",
       "      <th>previous</th>\n",
       "      <th>poutcome</th>\n",
       "      <th>opened_new_td_act_no_yes</th>\n",
       "    </tr>\n",
       "  </thead>\n",
       "  <tbody>\n",
       "    <tr>\n",
       "      <th>0</th>\n",
       "      <td>1002</td>\n",
       "      <td>33</td>\n",
       "      <td>services</td>\n",
       "      <td>married</td>\n",
       "      <td>secondary</td>\n",
       "      <td>no</td>\n",
       "      <td>4789</td>\n",
       "      <td>yes</td>\n",
       "      <td>yes</td>\n",
       "      <td>cellular</td>\n",
       "      <td>11</td>\n",
       "      <td>may</td>\n",
       "      <td>220</td>\n",
       "      <td>1</td>\n",
       "      <td>339</td>\n",
       "      <td>4</td>\n",
       "      <td>failure</td>\n",
       "      <td>no</td>\n",
       "    </tr>\n",
       "    <tr>\n",
       "      <th>1</th>\n",
       "      <td>1003</td>\n",
       "      <td>35</td>\n",
       "      <td>management</td>\n",
       "      <td>single</td>\n",
       "      <td>tertiary</td>\n",
       "      <td>no</td>\n",
       "      <td>1350</td>\n",
       "      <td>yes</td>\n",
       "      <td>no</td>\n",
       "      <td>cellular</td>\n",
       "      <td>16</td>\n",
       "      <td>apr</td>\n",
       "      <td>185</td>\n",
       "      <td>1</td>\n",
       "      <td>330</td>\n",
       "      <td>1</td>\n",
       "      <td>failure</td>\n",
       "      <td>no</td>\n",
       "    </tr>\n",
       "    <tr>\n",
       "      <th>2</th>\n",
       "      <td>1004</td>\n",
       "      <td>30</td>\n",
       "      <td>management</td>\n",
       "      <td>married</td>\n",
       "      <td>tertiary</td>\n",
       "      <td>no</td>\n",
       "      <td>1476</td>\n",
       "      <td>yes</td>\n",
       "      <td>yes</td>\n",
       "      <td>unknown</td>\n",
       "      <td>3</td>\n",
       "      <td>jun</td>\n",
       "      <td>199</td>\n",
       "      <td>4</td>\n",
       "      <td>0</td>\n",
       "      <td>0</td>\n",
       "      <td>unknown</td>\n",
       "      <td>no</td>\n",
       "    </tr>\n",
       "    <tr>\n",
       "      <th>3</th>\n",
       "      <td>1005</td>\n",
       "      <td>59</td>\n",
       "      <td>blue-collar</td>\n",
       "      <td>married</td>\n",
       "      <td>secondary</td>\n",
       "      <td>no</td>\n",
       "      <td>0</td>\n",
       "      <td>yes</td>\n",
       "      <td>no</td>\n",
       "      <td>unknown</td>\n",
       "      <td>5</td>\n",
       "      <td>may</td>\n",
       "      <td>226</td>\n",
       "      <td>1</td>\n",
       "      <td>0</td>\n",
       "      <td>0</td>\n",
       "      <td>unknown</td>\n",
       "      <td>no</td>\n",
       "    </tr>\n",
       "    <tr>\n",
       "      <th>4</th>\n",
       "      <td>1006</td>\n",
       "      <td>35</td>\n",
       "      <td>management</td>\n",
       "      <td>single</td>\n",
       "      <td>tertiary</td>\n",
       "      <td>no</td>\n",
       "      <td>747</td>\n",
       "      <td>no</td>\n",
       "      <td>no</td>\n",
       "      <td>cellular</td>\n",
       "      <td>23</td>\n",
       "      <td>feb</td>\n",
       "      <td>141</td>\n",
       "      <td>2</td>\n",
       "      <td>176</td>\n",
       "      <td>3</td>\n",
       "      <td>failure</td>\n",
       "      <td>no</td>\n",
       "    </tr>\n",
       "  </tbody>\n",
       "</table>\n",
       "</div>"
      ]
     },
     "metadata": {
      "application/vnd.databricks.v1+output": {
       "addedWidgets": {},
       "arguments": {},
       "data": "<div>\n<style scoped>\n    .dataframe tbody tr th:only-of-type {\n        vertical-align: middle;\n    }\n\n    .dataframe tbody tr th {\n        vertical-align: top;\n    }\n\n    .dataframe thead th {\n        text-align: right;\n    }\n</style>\n<table border=\"1\" class=\"dataframe\">\n  <thead>\n    <tr style=\"text-align: right;\">\n      <th></th>\n      <th>id</th>\n      <th>age</th>\n      <th>job</th>\n      <th>marital_status</th>\n      <th>education</th>\n      <th>default</th>\n      <th>balance</th>\n      <th>housing</th>\n      <th>loan</th>\n      <th>contact</th>\n      <th>day</th>\n      <th>month</th>\n      <th>duration</th>\n      <th>campaign</th>\n      <th>pdays</th>\n      <th>previous</th>\n      <th>poutcome</th>\n      <th>opened_new_td_act_no_yes</th>\n    </tr>\n  </thead>\n  <tbody>\n    <tr>\n      <th>0</th>\n      <td>1002</td>\n      <td>33</td>\n      <td>services</td>\n      <td>married</td>\n      <td>secondary</td>\n      <td>no</td>\n      <td>4789</td>\n      <td>yes</td>\n      <td>yes</td>\n      <td>cellular</td>\n      <td>11</td>\n      <td>may</td>\n      <td>220</td>\n      <td>1</td>\n      <td>339</td>\n      <td>4</td>\n      <td>failure</td>\n      <td>no</td>\n    </tr>\n    <tr>\n      <th>1</th>\n      <td>1003</td>\n      <td>35</td>\n      <td>management</td>\n      <td>single</td>\n      <td>tertiary</td>\n      <td>no</td>\n      <td>1350</td>\n      <td>yes</td>\n      <td>no</td>\n      <td>cellular</td>\n      <td>16</td>\n      <td>apr</td>\n      <td>185</td>\n      <td>1</td>\n      <td>330</td>\n      <td>1</td>\n      <td>failure</td>\n      <td>no</td>\n    </tr>\n    <tr>\n      <th>2</th>\n      <td>1004</td>\n      <td>30</td>\n      <td>management</td>\n      <td>married</td>\n      <td>tertiary</td>\n      <td>no</td>\n      <td>1476</td>\n      <td>yes</td>\n      <td>yes</td>\n      <td>unknown</td>\n      <td>3</td>\n      <td>jun</td>\n      <td>199</td>\n      <td>4</td>\n      <td>0</td>\n      <td>0</td>\n      <td>unknown</td>\n      <td>no</td>\n    </tr>\n    <tr>\n      <th>3</th>\n      <td>1005</td>\n      <td>59</td>\n      <td>blue-collar</td>\n      <td>married</td>\n      <td>secondary</td>\n      <td>no</td>\n      <td>0</td>\n      <td>yes</td>\n      <td>no</td>\n      <td>unknown</td>\n      <td>5</td>\n      <td>may</td>\n      <td>226</td>\n      <td>1</td>\n      <td>0</td>\n      <td>0</td>\n      <td>unknown</td>\n      <td>no</td>\n    </tr>\n    <tr>\n      <th>4</th>\n      <td>1006</td>\n      <td>35</td>\n      <td>management</td>\n      <td>single</td>\n      <td>tertiary</td>\n      <td>no</td>\n      <td>747</td>\n      <td>no</td>\n      <td>no</td>\n      <td>cellular</td>\n      <td>23</td>\n      <td>feb</td>\n      <td>141</td>\n      <td>2</td>\n      <td>176</td>\n      <td>3</td>\n      <td>failure</td>\n      <td>no</td>\n    </tr>\n  </tbody>\n</table>\n</div>",
       "datasetInfos": [],
       "metadata": {},
       "removedWidgets": [],
       "textData": null,
       "type": "htmlSandbox"
      }
     },
     "output_type": "display_data"
    }
   ],
   "source": [
    "#replacing negative values with zero \n",
    "import numpy as np\n",
    "newdf= df.toPandas()\n",
    "\n",
    "# newdf= newdf.loc[column[1]< 0, column[1]] = 0\n",
    "\n",
    "for column in num_columns  :\n",
    "    print(column)\n",
    "    newdf[column] = np.where(newdf[column] < 0, 0, newdf[column])\n",
    "\n",
    "newdf.head(5)\n",
    "\n",
    "\n"
   ]
  },
  {
   "cell_type": "code",
   "execution_count": 0,
   "metadata": {
    "application/vnd.databricks.v1+cell": {
     "cellMetadata": {
      "byteLimit": 2048000,
      "rowLimit": 10000
     },
     "inputWidgets": {},
     "nuid": "9c6404c1-1928-4e53-a642-2052233b6b2b",
     "showTitle": false,
     "title": ""
    }
   },
   "outputs": [
    {
     "output_type": "stream",
     "name": "stdout",
     "output_type": "stream",
     "text": [
      "+----+---+-------------+--------------+---------+-------+-------+-------+----+--------+---+-----+--------+--------+-----+--------+--------+------------------------+\n|  id|age|          job|marital_status|education|default|balance|housing|loan| contact|day|month|duration|campaign|pdays|previous|poutcome|opened_new_td_act_no_yes|\n+----+---+-------------+--------------+---------+-------+-------+-------+----+--------+---+-----+--------+--------+-----+--------+--------+------------------------+\n|1002| 33|     services|       married|secondary|     no|   4789|    yes| yes|cellular| 11|  may|     220|       1|  339|       4| failure|                      no|\n|1003| 35|   management|        single| tertiary|     no|   1350|    yes|  no|cellular| 16|  apr|     185|       1|  330|       1| failure|                      no|\n|1004| 30|   management|       married| tertiary|     no|   1476|    yes| yes| unknown|  3|  jun|     199|       4|    0|       0| unknown|                      no|\n|1005| 59|  blue-collar|       married|secondary|     no|      0|    yes|  no| unknown|  5|  may|     226|       1|    0|       0| unknown|                      no|\n|1006| 35|   management|        single| tertiary|     no|    747|     no|  no|cellular| 23|  feb|     141|       2|  176|       3| failure|                      no|\n|1007| 36|self-employed|       married| tertiary|     no|    307|    yes|  no|cellular| 14|  may|     341|       1|  330|       2|   other|                      no|\n|1008| 39|   technician|       married|secondary|     no|    147|    yes|  no|cellular|  6|  may|     151|       2|    0|       0| unknown|                      no|\n|1009| 41| entrepreneur|       married| tertiary|     no|    221|    yes|  no| unknown| 14|  may|      57|       2|    0|       0| unknown|                      no|\n|1010| 43|     services|       married|  primary|     no|      0|    yes| yes|cellular| 17|  apr|     313|       1|  147|       2| failure|                      no|\n|1011| 39|     services|       married|secondary|     no|   9374|    yes|  no| unknown| 20|  may|     273|       1|    0|       0| unknown|                      no|\n+----+---+-------------+--------------+---------+-------+-------+-------+----+--------+---+-----+--------+--------+-----+--------+--------+------------------------+\nonly showing top 10 rows\n\n"
     ]
    }
   ],
   "source": [
    "#view created to run sql queries on the dataframe.\n",
    "df=spark.createDataFrame(newdf) \n",
    "\n",
    "df.createOrReplaceTempView(\"bank\")\n",
    "\n",
    "spark.sql(\"SELECT * FROM bank\").show(10)"
   ]
  },
  {
   "cell_type": "code",
   "execution_count": 0,
   "metadata": {
    "application/vnd.databricks.v1+cell": {
     "cellMetadata": {
      "byteLimit": 2048000,
      "rowLimit": 10000
     },
     "inputWidgets": {},
     "nuid": "fba3da1d-2726-4579-98d3-7992b3c30529",
     "showTitle": false,
     "title": ""
    }
   },
   "outputs": [
    {
     "output_type": "stream",
     "name": "stdout",
     "output_type": "stream",
     "text": [
      "+------------------------+-----+\n|opened_new_td_act_no_yes|count|\n+------------------------+-----+\n|                      no| 3999|\n|                     yes|  521|\n+------------------------+-----+\n\n"
     ]
    }
   ],
   "source": [
    "#target distribution\n",
    "\n",
    "df.groupBy(\"opened_new_td_act_no_yes\").count().show()"
   ]
  },
  {
   "cell_type": "code",
   "execution_count": 0,
   "metadata": {
    "application/vnd.databricks.v1+cell": {
     "cellMetadata": {
      "byteLimit": 2048000,
      "rowLimit": 10000
     },
     "inputWidgets": {},
     "nuid": "fa3cb2ae-534d-4788-b427-f5b74d96ca89",
     "showTitle": false,
     "title": ""
    }
   },
   "outputs": [
    {
     "output_type": "stream",
     "name": "stdout",
     "output_type": "stream",
     "text": [
      "+-----------------------------+----+---+\n|opened_new_td_act_no_yes_loan|  no|yes|\n+-----------------------------+----+---+\n|                           no|3351|648|\n|                          yes| 478| 43|\n+-----------------------------+----+---+\n\n"
     ]
    }
   ],
   "source": [
    "# pairwise frequencies \n",
    "df.crosstab(\"opened_new_td_act_no_yes\",\"loan\").show()"
   ]
  },
  {
   "cell_type": "code",
   "execution_count": 0,
   "metadata": {
    "application/vnd.databricks.v1+cell": {
     "cellMetadata": {
      "byteLimit": 2048000,
      "rowLimit": 10000
     },
     "inputWidgets": {},
     "nuid": "e4c81e64-f316-499f-b2e6-c6b77ea53a6b",
     "showTitle": false,
     "title": ""
    }
   },
   "outputs": [],
   "source": [
    "#writing back to adls \n",
    "write_location= \"abfss://bankdata@capadls.dfs.core.windows.net/gold_layer\"\n",
    "df.write.format(\"csv\").option(\"header\",True).mode('overwrite').save(write_location)\n",
    "\n"
   ]
  },
  {
   "cell_type": "code",
   "execution_count": 0,
   "metadata": {
    "application/vnd.databricks.v1+cell": {
     "cellMetadata": {
      "byteLimit": 2048000,
      "rowLimit": 10000
     },
     "inputWidgets": {},
     "nuid": "eaf12d8b-5a15-441c-ba4e-c0d044bc69f0",
     "showTitle": false,
     "title": ""
    }
   },
   "outputs": [
    {
     "output_type": "stream",
     "name": "stdout",
     "output_type": "stream",
     "text": [
      "+----+---+-----------+--------------+---------+-------+-------+-------+----+--------+---+-----+--------+--------+-----+--------+--------+------------------------+\n|  id|age|        job|marital_status|education|default|balance|housing|loan| contact|day|month|duration|campaign|pdays|previous|poutcome|opened_new_td_act_no_yes|\n+----+---+-----------+--------------+---------+-------+-------+-------+----+--------+---+-----+--------+--------+-----+--------+--------+------------------------+\n|1002| 33|   services|       married|secondary|     no|   4789|    yes| yes|cellular| 11|  may|     220|       1|  339|       4| failure|                      no|\n|1003| 35| management|        single| tertiary|     no|   1350|    yes|  no|cellular| 16|  apr|     185|       1|  330|       1| failure|                      no|\n|1004| 30| management|       married| tertiary|     no|   1476|    yes| yes| unknown|  3|  jun|     199|       4|    0|       0| unknown|                      no|\n|1005| 59|blue-collar|       married|secondary|     no|      0|    yes|  no| unknown|  5|  may|     226|       1|    0|       0| unknown|                      no|\n|1006| 35| management|        single| tertiary|     no|    747|     no|  no|cellular| 23|  feb|     141|       2|  176|       3| failure|                      no|\n+----+---+-----------+--------------+---------+-------+-------+-------+----+--------+---+-----+--------+--------+-----+--------+--------+------------------------+\nonly showing top 5 rows\n\n"
     ]
    }
   ],
   "source": [
    "#reading back the file written to adls \n",
    "testdf = spark.read.format(\"csv\").schema(testSchema).option(\"header\", \"true\").option(\"delimiter\",\",\").load(write_location)\n",
    "testdf.show(5)"
   ]
  },
  {
   "cell_type": "code",
   "execution_count": 0,
   "metadata": {
    "application/vnd.databricks.v1+cell": {
     "cellMetadata": {},
     "inputWidgets": {},
     "nuid": "c8ebf79d-ee4e-4ce5-8dcd-8d85b7f1d32f",
     "showTitle": false,
     "title": ""
    }
   },
   "outputs": [],
   "source": []
  }
 ],
 "metadata": {
  "application/vnd.databricks.v1+notebook": {
   "dashboards": [],
   "language": "python",
   "notebookMetadata": {
    "pythonIndentUnit": 4
   },
   "notebookName": "capstone",
   "widgets": {}
  }
 },
 "nbformat": 4,
 "nbformat_minor": 0
}
